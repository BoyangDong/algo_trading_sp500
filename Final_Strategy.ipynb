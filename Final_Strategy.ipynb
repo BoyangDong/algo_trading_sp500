{
 "cells": [
  {
   "cell_type": "code",
   "execution_count": 163,
   "metadata": {},
   "outputs": [],
   "source": [
    "import pandas as pd\n",
    "import yfinance as yf\n",
    "import numpy as np\n",
    "import statsmodels.api as sm"
   ]
  },
  {
   "cell_type": "code",
   "execution_count": 164,
   "metadata": {},
   "outputs": [
    {
     "name": "stdout",
     "output_type": "stream",
     "text": [
      "[*********************100%***********************]  1 of 1 completed\n"
     ]
    },
    {
     "data": {
      "text/plain": [
       "0"
      ]
     },
     "execution_count": 164,
     "metadata": {},
     "output_type": "execute_result"
    }
   ],
   "source": [
    "SPY_data = yf.download(tickers = '^GSPC', start = '2020-01-01', interval = '60m')\n",
    "SPY_data['Adj Close'].isna().sum()"
   ]
  },
  {
   "cell_type": "code",
   "execution_count": 165,
   "metadata": {},
   "outputs": [
    {
     "name": "stdout",
     "output_type": "stream",
     "text": [
      "[*********************100%***********************]  1 of 1 completed\n"
     ]
    },
    {
     "data": {
      "text/plain": [
       "0"
      ]
     },
     "execution_count": 165,
     "metadata": {},
     "output_type": "execute_result"
    }
   ],
   "source": [
    "VOO_data = yf.download(tickers = 'VOO', start = '2020-01-01', interval = '60m')\n",
    "VOO_data['Adj Close'].isna().sum()"
   ]
  },
  {
   "cell_type": "code",
   "execution_count": 166,
   "metadata": {},
   "outputs": [
    {
     "name": "stdout",
     "output_type": "stream",
     "text": [
      "[*********************100%***********************]  1 of 1 completed\n"
     ]
    },
    {
     "data": {
      "text/plain": [
       "0"
      ]
     },
     "execution_count": 166,
     "metadata": {},
     "output_type": "execute_result"
    }
   ],
   "source": [
    "SPLG_data = yf.download(tickers = 'SPLG', start = '2020-01-01', interval = '60m')\n",
    "SPLG_data['Adj Close'].isna().sum()"
   ]
  },
  {
   "cell_type": "code",
   "execution_count": 167,
   "metadata": {},
   "outputs": [
    {
     "name": "stdout",
     "output_type": "stream",
     "text": [
      "[*********************100%***********************]  1 of 1 completed\n"
     ]
    },
    {
     "data": {
      "text/plain": [
       "0"
      ]
     },
     "execution_count": 167,
     "metadata": {},
     "output_type": "execute_result"
    }
   ],
   "source": [
    "IVV_data = yf.download(tickers = 'IVV', start = '2020-01-01', interval = '60m')\n",
    "IVV_data['Adj Close'].isna().sum()"
   ]
  },
  {
   "cell_type": "code",
   "execution_count": 168,
   "metadata": {},
   "outputs": [],
   "source": [
    "def checkIncreasing(df, n):\n",
    "    for i in range(n - 1):\n",
    "        if df.iloc[i] > df.iloc[i + 1]:\n",
    "            return False\n",
    "        \n",
    "    return True"
   ]
  },
  {
   "cell_type": "code",
   "execution_count": 169,
   "metadata": {},
   "outputs": [],
   "source": [
    "def checkDecreasing(df, n):\n",
    "    for i in range(n - 1):\n",
    "        if df.iloc[i] < df.iloc[i + 1]:\n",
    "            return False\n",
    "        \n",
    "    return True"
   ]
  },
  {
   "cell_type": "code",
   "execution_count": 170,
   "metadata": {},
   "outputs": [],
   "source": [
    "def checkPositive(df, n):\n",
    "    positive = df.iloc[0] >= 0\n",
    "    if positive:\n",
    "        for i in range(1, n):\n",
    "            if df[i] < 0:\n",
    "                return False\n",
    "    return True"
   ]
  },
  {
   "cell_type": "code",
   "execution_count": 171,
   "metadata": {},
   "outputs": [],
   "source": [
    "def checkNegative(df, n):\n",
    "    negative = df.iloc[0] < 0\n",
    "    if negative:\n",
    "        for i in range(1, n):\n",
    "            if df[i] > 0:\n",
    "                return False\n",
    "            \n",
    "    return True"
   ]
  },
  {
   "cell_type": "code",
   "execution_count": 172,
   "metadata": {},
   "outputs": [],
   "source": [
    "stock_df = pd.DataFrame(columns = ['SPY', 'VOO', 'SPLG', 'IVV'], index = SPY_data['2020-05-01':].index[4:])"
   ]
  },
  {
   "cell_type": "code",
   "execution_count": 173,
   "metadata": {},
   "outputs": [],
   "source": [
    "SPY_Moment = (SPY_data['Adj Close']['2020-05-01':] - SPY_data['Adj Close'].shift(6)).dropna()\n",
    "SPY_MAVG = SPY_data['Adj Close']['2020-05-01':].rolling(6, min_periods = 1).mean().dropna()\n",
    "margins = 20000\n",
    "currAmount = 20000\n",
    "holdings = 0\n",
    "actions = []\n",
    "totalTransactionCost = 0\n",
    "for i, date in enumerate(SPY_Moment['2020-05-01':].index[4:]):\n",
    "    currAmount = holdings * SPY_data['Adj Close'][date] + margins\n",
    "    actions.append('hold')\n",
    "    if holdings == 0:\n",
    "        if checkIncreasing(SPY_MAVG.iloc[i: i + 4], 4):\n",
    "            if checkPositive(SPY_Moment[i: i + 4], 4):\n",
    "                if margins >= currAmount * 0.02:\n",
    "                    holdings += currAmount * 0.02 / SPY_data['Adj Close'][date]\n",
    "                    margins -= currAmount * 0.02 * 1.01\n",
    "                    totalTransactionCost += currAmount * 0.02 * 0.01\n",
    "        if checkDecreasing(SPY_MAVG.iloc[i: i + 4], 4):\n",
    "            if checkNegative(SPY_Moment[i: i + 4], 4):\n",
    "                holdings -= currAmount * 0.02 / SPY_data['Adj Close'][date]\n",
    "                margins += currAmount * 0.02 * 0.99\n",
    "                totalTransactionCost += currAmount * 0.02 * 0.01\n",
    "    else:\n",
    "        if holdings < 0:\n",
    "            if checkIncreasing(SPY_MAVG.iloc[i: i + 4], 4):\n",
    "                if checkPositive(SPY_Moment[i: i + 4], 4):\n",
    "                    margins -= holdings * SPY_data['Adj Close'][date] * 1.01\n",
    "                    holdings = 0\n",
    "                    totalTransactionCost += currAmount * 0.02 * 0.01\n",
    "        elif holdings > 0:\n",
    "            if checkDecreasing(SPY_MAVG.iloc[i: i + 4], 4):\n",
    "                if checkNegative(SPY_Moment[i: i + 4], 4):\n",
    "                    margins += holdings * SPY_data['Adj Close'][date] * 0.99\n",
    "                    holdings = 0\n",
    "                    totalTransactionCost += currAmount * 0.02 * 0.01\n",
    "    SPY_currAmount = holdings * SPY_data['Adj Close'][date] + margins\n",
    "    stock_df.loc[date, 'SPY'] = currAmount\n",
    "    "
   ]
  },
  {
   "cell_type": "code",
   "execution_count": 174,
   "metadata": {},
   "outputs": [],
   "source": [
    "IVV_Moment = (IVV_data['Adj Close']['2020-05-01':] - IVV_data['Adj Close'].shift(6)).dropna()\n",
    "IVV_MAVG = IVV_data['Adj Close']['2020-05-01':].rolling(6, min_periods = 1).mean().dropna()\n",
    "\n",
    "margins = 20000\n",
    "currAmount = 20000\n",
    "holdings = 0\n",
    "for i, date in enumerate(IVV_Moment['2020-05-01':].index[4:]):\n",
    "    currAmount = holdings * IVV_data['Adj Close'][date] + margins\n",
    "    if holdings == 0:\n",
    "        if checkIncreasing(IVV_MAVG.iloc[i: i + 4], 4):\n",
    "            if checkPositive(IVV_Moment[i: i + 4], 4):\n",
    "                if margins >= currAmount * 0.02:\n",
    "                    holdings += currAmount * 0.02 / IVV_data['Adj Close'][date]\n",
    "                    margins -= currAmount * 0.02 * 1.01\n",
    "                    totalTransactionCost += currAmount * 0.02 * 0.01\n",
    "        if checkDecreasing(IVV_MAVG.iloc[i: i + 4], 4):\n",
    "            if checkNegative(IVV_Moment[i: i + 4], 4):\n",
    "                holdings -= currAmount * 0.02 / IVV_data['Adj Close'][date]\n",
    "                margins += currAmount * 0.02 * 0.99\n",
    "                totalTransactionCost += currAmount * 0.02 * 0.01\n",
    "    else:\n",
    "        if holdings < 0:\n",
    "            if checkIncreasing(IVV_MAVG.iloc[i: i + 4], 4):\n",
    "                if checkPositive(IVV_Moment[i: i + 4], 4):\n",
    "                    margins -= holdings * IVV_data['Adj Close'][date] * 1.01\n",
    "                    holdings = 0  \n",
    "                    totalTransactionCost += currAmount * 0.02 * 0.01\n",
    "        elif holdings > 0:\n",
    "            if checkDecreasing(IVV_MAVG.iloc[i: i + 4], 4):\n",
    "                if checkNegative(IVV_Moment[i: i + 4], 4):\n",
    "                    margins += holdings * IVV_data['Adj Close'][date] * 0.99\n",
    "                    holdings = 0\n",
    "                    totalTransactionCost += currAmount * 0.02 * 0.01\n",
    "    \n",
    "    currAmount = holdings * IVV_data['Adj Close'][date] + margins\n",
    "    stock_df.loc[date, 'IVV'] = currAmount"
   ]
  },
  {
   "cell_type": "code",
   "execution_count": 175,
   "metadata": {},
   "outputs": [],
   "source": [
    "SPLG_Moment = (SPLG_data['Adj Close']['2020-05-01':] - SPLG_data['Adj Close'].shift(6)).dropna()\n",
    "SPLG_MAVG = SPLG_data['Adj Close']['2020-05-01':].rolling(6, min_periods = 1).mean().dropna()\n",
    "\n",
    "margins = 20000\n",
    "currAmount = 20000\n",
    "holdings = 0\n",
    "SPLG_currAmounts = []\n",
    "for i, date in enumerate(SPLG_Moment['2020-05-01':].index[4:]):\n",
    "    currAmount = holdings * SPLG_data['Adj Close'][date] + margins\n",
    "    if holdings == 0:\n",
    "        if checkIncreasing(SPLG_MAVG.iloc[i: i + 4], 4):\n",
    "            if checkPositive(SPLG_Moment[i: i + 4], 4):\n",
    "                if margins >= currAmount * 0.02:\n",
    "                    holdings += currAmount * 0.02 / SPLG_data['Adj Close'][date]\n",
    "                    margins -= currAmount * 0.02 * 1.01\n",
    "                    totalTransactionCost += currAmount * 0.02 * 0.01\n",
    "        if checkDecreasing(SPLG_MAVG.iloc[i: i + 4], 4):\n",
    "            if checkNegative(SPLG_Moment[i: i + 4], 4):\n",
    "                holdings -= currAmount * 0.02 / SPLG_data['Adj Close'][date]\n",
    "                margins += currAmount * 0.02 * 0.99\n",
    "                totalTransactionCost += currAmount * 0.02 * 0.01\n",
    "    else:\n",
    "        if holdings < 0:\n",
    "            if checkIncreasing(SPLG_MAVG.iloc[i: i + 4], 4):\n",
    "                if checkPositive(SPLG_Moment[i: i + 4], 4):\n",
    "                    margins -= holdings * SPLG_data['Adj Close'][date] * 1.01\n",
    "                    holdings = 0 \n",
    "                    totalTransactionCost += currAmount * 0.02 * 0.01\n",
    "        elif holdings > 0:\n",
    "            if checkDecreasing(SPLG_MAVG.iloc[i: i + 4], 4):\n",
    "                if checkNegative(SPLG_Moment[i: i + 4], 4):\n",
    "                    margins += holdings * SPLG_data['Adj Close'][date] * 0.99\n",
    "                    holdings = 0\n",
    "                    totalTransactionCost += currAmount * 0.02 * 0.01\n",
    "    \n",
    "    currAmount = holdings * SPLG_data['Adj Close'][date] + margins\n",
    "    stock_df.loc[date, 'SPLG'] = currAmount"
   ]
  },
  {
   "cell_type": "code",
   "execution_count": 176,
   "metadata": {},
   "outputs": [],
   "source": [
    "VOO_Moment = (VOO_data['Adj Close']['2020-05-01':] - VOO_data['Adj Close'].shift(6)).dropna()\n",
    "VOO_MAVG = VOO_data['Adj Close']['2020-05-01':].rolling(6, min_periods = 1).mean().dropna()\n",
    "\n",
    "margins = 20000\n",
    "currAmount = 20000\n",
    "holdings = 0\n",
    "\n",
    "for i, date in enumerate(VOO_Moment['2020-05-01':].index[4:]):\n",
    "    currAmount = holdings * VOO_data['Adj Close'][date] + margins\n",
    "    if holdings == 0:\n",
    "        if checkIncreasing(VOO_MAVG.iloc[i: i + 4], 4):\n",
    "            if checkPositive(VOO_Moment[i: i + 4], 4):\n",
    "                if margins >= currAmount * 0.02:\n",
    "                    holdings += currAmount * 0.02 / VOO_data['Adj Close'][date]\n",
    "                    margins -= currAmount * 0.02 * 1.01\n",
    "                    totalTransactionCost += currAmount * 0.02 * 0.01\n",
    "        if checkDecreasing(VOO_MAVG.iloc[i: i + 4], 4):\n",
    "            if checkNegative(VOO_Moment[i: i + 4], 4):\n",
    "                holdings -= currAmount * 0.02 / VOO_data['Adj Close'][date]\n",
    "                margins += currAmount * 0.02 * 0.99\n",
    "                totalTransactionCost += currAmount * 0.02 * 0.01\n",
    "    else:\n",
    "        if holdings < 0:\n",
    "            if checkIncreasing(VOO_MAVG.iloc[i: i + 4], 4):\n",
    "                if checkPositive(VOO_Moment[i: i + 4], 4):\n",
    "                    margins -= holdings * VOO_data['Adj Close'][date] * 1.01\n",
    "                    holdings = 0\n",
    "                    totalTransactionCost += currAmount * 0.02 * 0.01\n",
    "        elif holdings > 0:\n",
    "            if checkDecreasing(VOO_MAVG.iloc[i: i + 4], 4):\n",
    "                if checkNegative(VOO_Moment[i: i + 4], 4):\n",
    "                    margins += holdings * VOO_data['Adj Close'][date] * 0.99\n",
    "                    holdings = 0\n",
    "                    totalTransactionCost += currAmount * 0.02 * 0.01\n",
    "    \n",
    "    currAmount = holdings * VOO_data['Adj Close'][date] + margins\n",
    "    stock_df.loc[date, 'VOO'] = currAmount\n"
   ]
  },
  {
   "cell_type": "code",
   "execution_count": 177,
   "metadata": {
    "scrolled": true
   },
   "outputs": [
    {
     "data": {
      "text/plain": [
       "(5044106.768894653, 50.441067688946525)"
      ]
     },
     "execution_count": 177,
     "metadata": {},
     "output_type": "execute_result"
    }
   ],
   "source": [
    "net_profit = stock_df.iloc[-1].sum() - 100000\n",
    "net_return = net_profit / 100000\n",
    "net_profit, net_return"
   ]
  },
  {
   "cell_type": "code",
   "execution_count": 178,
   "metadata": {},
   "outputs": [],
   "source": [
    "sum_port = stock_df.sum(axis = 1)"
   ]
  },
  {
   "cell_type": "code",
   "execution_count": 179,
   "metadata": {
    "scrolled": true
   },
   "outputs": [
    {
     "data": {
      "text/plain": [
       "1313162.7278974378"
      ]
     },
     "execution_count": 179,
     "metadata": {},
     "output_type": "execute_result"
    }
   ],
   "source": [
    "sum_port.std()"
   ]
  },
  {
   "cell_type": "code",
   "execution_count": 181,
   "metadata": {
    "scrolled": false
   },
   "outputs": [
    {
     "data": {
      "text/plain": [
       "Datetime\n",
       "2020-05-01 14:30:00-04:00   -5.299924e-05\n",
       "2020-05-01 15:30:00-04:00    5.025693e-06\n",
       "2020-05-04 09:30:00-04:00    1.037046e-04\n",
       "2020-05-04 10:30:00-04:00    1.282741e-05\n",
       "2020-05-04 11:30:00-04:00   -5.955834e-05\n",
       "                                 ...     \n",
       "2021-11-24 15:30:00-05:00    9.818101e-07\n",
       "2021-11-26 09:30:00-05:00   -3.605458e-04\n",
       "2021-11-26 10:30:00-05:00   -8.681644e-05\n",
       "2021-11-26 11:30:00-05:00    7.361889e-05\n",
       "2021-11-26 13:00:00-05:00   -2.427347e-04\n",
       "Length: 2772, dtype: float64"
      ]
     },
     "execution_count": 181,
     "metadata": {},
     "output_type": "execute_result"
    }
   ],
   "source": [
    "hourly_return = ((sum_port - (sum_port.shift(1))) / sum_port).dropna()\n",
    "hourly_return"
   ]
  },
  {
   "cell_type": "code",
   "execution_count": 182,
   "metadata": {},
   "outputs": [
    {
     "data": {
      "text/plain": [
       "0.24074903096268455"
      ]
     },
     "execution_count": 182,
     "metadata": {},
     "output_type": "execute_result"
    }
   ],
   "source": [
    "hourly_return.std() * np.sqrt(252 * 7)"
   ]
  },
  {
   "cell_type": "code",
   "execution_count": 183,
   "metadata": {},
   "outputs": [
    {
     "data": {
      "text/plain": [
       "3.841189413722542"
      ]
     },
     "execution_count": 183,
     "metadata": {},
     "output_type": "execute_result"
    }
   ],
   "source": [
    "net_profit / sum_port.std()"
   ]
  },
  {
   "cell_type": "code",
   "execution_count": 184,
   "metadata": {},
   "outputs": [
    {
     "data": {
      "text/plain": [
       "838.0190356282562"
      ]
     },
     "execution_count": 184,
     "metadata": {},
     "output_type": "execute_result"
    }
   ],
   "source": [
    "risk_return = (net_return * 4 - 0.012) / (hourly_return.std() * np.sqrt(252 * 7))\n",
    "risk_return"
   ]
  },
  {
   "cell_type": "code",
   "execution_count": 185,
   "metadata": {},
   "outputs": [
    {
     "data": {
      "text/plain": [
       "419.0095178141281"
      ]
     },
     "execution_count": 185,
     "metadata": {},
     "output_type": "execute_result"
    }
   ],
   "source": [
    "(net_return - 0.012 / 4) / hourly_return.std() / np.sqrt(63 * 7)"
   ]
  },
  {
   "cell_type": "code",
   "execution_count": 186,
   "metadata": {},
   "outputs": [
    {
     "data": {
      "text/plain": [
       "0.24074903096268455"
      ]
     },
     "execution_count": 186,
     "metadata": {},
     "output_type": "execute_result"
    }
   ],
   "source": [
    "vol = hourly_return.std() * np.sqrt(252 * 7)\n",
    "vol"
   ]
  },
  {
   "cell_type": "code",
   "execution_count": 188,
   "metadata": {},
   "outputs": [
    {
     "data": {
      "text/html": [
       "<div>\n",
       "<style scoped>\n",
       "    .dataframe tbody tr th:only-of-type {\n",
       "        vertical-align: middle;\n",
       "    }\n",
       "\n",
       "    .dataframe tbody tr th {\n",
       "        vertical-align: top;\n",
       "    }\n",
       "\n",
       "    .dataframe thead th {\n",
       "        text-align: right;\n",
       "    }\n",
       "</style>\n",
       "<table border=\"1\" class=\"dataframe\">\n",
       "  <thead>\n",
       "    <tr style=\"text-align: right;\">\n",
       "      <th></th>\n",
       "      <th>Open</th>\n",
       "      <th>High</th>\n",
       "      <th>Low</th>\n",
       "      <th>Close</th>\n",
       "      <th>Adj Close</th>\n",
       "      <th>Volume</th>\n",
       "    </tr>\n",
       "    <tr>\n",
       "      <th>Datetime</th>\n",
       "      <th></th>\n",
       "      <th></th>\n",
       "      <th></th>\n",
       "      <th></th>\n",
       "      <th></th>\n",
       "      <th></th>\n",
       "    </tr>\n",
       "  </thead>\n",
       "  <tbody>\n",
       "    <tr>\n",
       "      <th>2020-01-02 10:30:00-05:00</th>\n",
       "      <td>-0.002324</td>\n",
       "      <td>-0.002007</td>\n",
       "      <td>0.000056</td>\n",
       "      <td>0.000651</td>\n",
       "      <td>0.000651</td>\n",
       "      <td>1.000000</td>\n",
       "    </tr>\n",
       "    <tr>\n",
       "      <th>2020-01-02 11:30:00-05:00</th>\n",
       "      <td>0.000626</td>\n",
       "      <td>-0.000278</td>\n",
       "      <td>-0.000374</td>\n",
       "      <td>-0.000083</td>\n",
       "      <td>-0.000083</td>\n",
       "      <td>-0.221765</td>\n",
       "    </tr>\n",
       "    <tr>\n",
       "      <th>2020-01-02 12:30:00-05:00</th>\n",
       "      <td>-0.000099</td>\n",
       "      <td>0.000462</td>\n",
       "      <td>0.001435</td>\n",
       "      <td>-0.000241</td>\n",
       "      <td>-0.000241</td>\n",
       "      <td>-0.155298</td>\n",
       "    </tr>\n",
       "    <tr>\n",
       "      <th>2020-01-02 13:30:00-05:00</th>\n",
       "      <td>-0.000222</td>\n",
       "      <td>0.000496</td>\n",
       "      <td>-0.000191</td>\n",
       "      <td>0.001454</td>\n",
       "      <td>0.001454</td>\n",
       "      <td>0.107487</td>\n",
       "    </tr>\n",
       "    <tr>\n",
       "      <th>2020-01-02 14:30:00-05:00</th>\n",
       "      <td>0.001442</td>\n",
       "      <td>0.001049</td>\n",
       "      <td>0.001630</td>\n",
       "      <td>0.001022</td>\n",
       "      <td>0.001022</td>\n",
       "      <td>0.172749</td>\n",
       "    </tr>\n",
       "    <tr>\n",
       "      <th>...</th>\n",
       "      <td>...</td>\n",
       "      <td>...</td>\n",
       "      <td>...</td>\n",
       "      <td>...</td>\n",
       "      <td>...</td>\n",
       "      <td>...</td>\n",
       "    </tr>\n",
       "    <tr>\n",
       "      <th>2021-11-24 15:30:00-05:00</th>\n",
       "      <td>0.003280</td>\n",
       "      <td>0.000115</td>\n",
       "      <td>0.002221</td>\n",
       "      <td>0.000000</td>\n",
       "      <td>0.000000</td>\n",
       "      <td>0.379349</td>\n",
       "    </tr>\n",
       "    <tr>\n",
       "      <th>2021-11-26 09:30:00-05:00</th>\n",
       "      <td>-0.007932</td>\n",
       "      <td>-0.008198</td>\n",
       "      <td>-0.021246</td>\n",
       "      <td>-0.018275</td>\n",
       "      <td>-0.018275</td>\n",
       "      <td>-inf</td>\n",
       "    </tr>\n",
       "    <tr>\n",
       "      <th>2021-11-26 10:30:00-05:00</th>\n",
       "      <td>-0.010229</td>\n",
       "      <td>-0.009374</td>\n",
       "      <td>-0.002155</td>\n",
       "      <td>-0.004355</td>\n",
       "      <td>-0.004355</td>\n",
       "      <td>1.000000</td>\n",
       "    </tr>\n",
       "    <tr>\n",
       "      <th>2021-11-26 11:30:00-05:00</th>\n",
       "      <td>-0.004385</td>\n",
       "      <td>-0.001519</td>\n",
       "      <td>0.000608</td>\n",
       "      <td>0.003689</td>\n",
       "      <td>0.003689</td>\n",
       "      <td>-0.078638</td>\n",
       "    </tr>\n",
       "    <tr>\n",
       "      <th>2021-11-26 13:00:00-05:00</th>\n",
       "      <td>0.003654</td>\n",
       "      <td>0.001832</td>\n",
       "      <td>-0.001396</td>\n",
       "      <td>-0.004270</td>\n",
       "      <td>-0.004270</td>\n",
       "      <td>0.295963</td>\n",
       "    </tr>\n",
       "  </tbody>\n",
       "</table>\n",
       "<p>3353 rows × 6 columns</p>\n",
       "</div>"
      ],
      "text/plain": [
       "                               Open      High       Low     Close  Adj Close  \\\n",
       "Datetime                                                                       \n",
       "2020-01-02 10:30:00-05:00 -0.002324 -0.002007  0.000056  0.000651   0.000651   \n",
       "2020-01-02 11:30:00-05:00  0.000626 -0.000278 -0.000374 -0.000083  -0.000083   \n",
       "2020-01-02 12:30:00-05:00 -0.000099  0.000462  0.001435 -0.000241  -0.000241   \n",
       "2020-01-02 13:30:00-05:00 -0.000222  0.000496 -0.000191  0.001454   0.001454   \n",
       "2020-01-02 14:30:00-05:00  0.001442  0.001049  0.001630  0.001022   0.001022   \n",
       "...                             ...       ...       ...       ...        ...   \n",
       "2021-11-24 15:30:00-05:00  0.003280  0.000115  0.002221  0.000000   0.000000   \n",
       "2021-11-26 09:30:00-05:00 -0.007932 -0.008198 -0.021246 -0.018275  -0.018275   \n",
       "2021-11-26 10:30:00-05:00 -0.010229 -0.009374 -0.002155 -0.004355  -0.004355   \n",
       "2021-11-26 11:30:00-05:00 -0.004385 -0.001519  0.000608  0.003689   0.003689   \n",
       "2021-11-26 13:00:00-05:00  0.003654  0.001832 -0.001396 -0.004270  -0.004270   \n",
       "\n",
       "                             Volume  \n",
       "Datetime                             \n",
       "2020-01-02 10:30:00-05:00  1.000000  \n",
       "2020-01-02 11:30:00-05:00 -0.221765  \n",
       "2020-01-02 12:30:00-05:00 -0.155298  \n",
       "2020-01-02 13:30:00-05:00  0.107487  \n",
       "2020-01-02 14:30:00-05:00  0.172749  \n",
       "...                             ...  \n",
       "2021-11-24 15:30:00-05:00  0.379349  \n",
       "2021-11-26 09:30:00-05:00      -inf  \n",
       "2021-11-26 10:30:00-05:00  1.000000  \n",
       "2021-11-26 11:30:00-05:00 -0.078638  \n",
       "2021-11-26 13:00:00-05:00  0.295963  \n",
       "\n",
       "[3353 rows x 6 columns]"
      ]
     },
     "execution_count": 188,
     "metadata": {},
     "output_type": "execute_result"
    }
   ],
   "source": [
    "SPY_hourly = ((SPY_data - SPY_data.shift(1)) / SPY_data).dropna()\n",
    "SPY_hourly"
   ]
  },
  {
   "cell_type": "code",
   "execution_count": 189,
   "metadata": {},
   "outputs": [],
   "source": [
    "rf = 0.012 / 252 / 7"
   ]
  },
  {
   "cell_type": "code",
   "execution_count": 190,
   "metadata": {},
   "outputs": [],
   "source": [
    "a = SPY_hourly['Adj Close'][hourly_return.index]"
   ]
  },
  {
   "cell_type": "code",
   "execution_count": 192,
   "metadata": {},
   "outputs": [],
   "source": [
    "na_indexes = a[pd.isna(a)].index"
   ]
  },
  {
   "cell_type": "code",
   "execution_count": 193,
   "metadata": {},
   "outputs": [
    {
     "data": {
      "text/html": [
       "<table class=\"simpletable\">\n",
       "<caption>OLS Regression Results</caption>\n",
       "<tr>\n",
       "  <th>Dep. Variable:</th>            <td>y</td>        <th>  R-squared (uncentered):</th>       <td>   0.000</td> \n",
       "</tr>\n",
       "<tr>\n",
       "  <th>Model:</th>                   <td>OLS</td>       <th>  Adj. R-squared (uncentered):</th>  <td>  -0.000</td> \n",
       "</tr>\n",
       "<tr>\n",
       "  <th>Method:</th>             <td>Least Squares</td>  <th>  F-statistic:       </th>           <td> 0.08704</td> \n",
       "</tr>\n",
       "<tr>\n",
       "  <th>Date:</th>             <td>Mon, 29 Nov 2021</td> <th>  Prob (F-statistic):</th>            <td> 0.768</td>  \n",
       "</tr>\n",
       "<tr>\n",
       "  <th>Time:</th>                 <td>03:19:58</td>     <th>  Log-Likelihood:    </th>           <td>  10286.</td> \n",
       "</tr>\n",
       "<tr>\n",
       "  <th>No. Observations:</th>      <td>  2772</td>      <th>  AIC:               </th>          <td>-2.057e+04</td>\n",
       "</tr>\n",
       "<tr>\n",
       "  <th>Df Residuals:</th>          <td>  2771</td>      <th>  BIC:               </th>          <td>-2.056e+04</td>\n",
       "</tr>\n",
       "<tr>\n",
       "  <th>Df Model:</th>              <td>     1</td>      <th>                     </th>               <td> </td>    \n",
       "</tr>\n",
       "<tr>\n",
       "  <th>Covariance Type:</th>      <td>nonrobust</td>    <th>                     </th>               <td> </td>    \n",
       "</tr>\n",
       "</table>\n",
       "<table class=\"simpletable\">\n",
       "<tr>\n",
       "      <td></td>         <th>coef</th>     <th>std err</th>      <th>t</th>      <th>P>|t|</th>  <th>[0.025</th>    <th>0.975]</th>  \n",
       "</tr>\n",
       "<tr>\n",
       "  <th>Adj Close</th> <td>    0.0087</td> <td>    0.030</td> <td>    0.295</td> <td> 0.768</td> <td>   -0.049</td> <td>    0.067</td>\n",
       "</tr>\n",
       "</table>\n",
       "<table class=\"simpletable\">\n",
       "<tr>\n",
       "  <th>Omnibus:</th>       <td>2326.876</td> <th>  Durbin-Watson:     </th> <td>   1.396</td> \n",
       "</tr>\n",
       "<tr>\n",
       "  <th>Prob(Omnibus):</th>  <td> 0.000</td>  <th>  Jarque-Bera (JB):  </th> <td>39887.137</td>\n",
       "</tr>\n",
       "<tr>\n",
       "  <th>Skew:</th>           <td> 4.156</td>  <th>  Prob(JB):          </th> <td>    0.00</td> \n",
       "</tr>\n",
       "<tr>\n",
       "  <th>Kurtosis:</th>       <td>19.620</td>  <th>  Cond. No.          </th> <td>    1.00</td> \n",
       "</tr>\n",
       "</table><br/><br/>Warnings:<br/>[1] Standard Errors assume that the covariance matrix of the errors is correctly specified."
      ],
      "text/plain": [
       "<class 'statsmodels.iolib.summary.Summary'>\n",
       "\"\"\"\n",
       "                                 OLS Regression Results                                \n",
       "=======================================================================================\n",
       "Dep. Variable:                      y   R-squared (uncentered):                   0.000\n",
       "Model:                            OLS   Adj. R-squared (uncentered):             -0.000\n",
       "Method:                 Least Squares   F-statistic:                            0.08704\n",
       "Date:                Mon, 29 Nov 2021   Prob (F-statistic):                       0.768\n",
       "Time:                        03:19:58   Log-Likelihood:                          10286.\n",
       "No. Observations:                2772   AIC:                                 -2.057e+04\n",
       "Df Residuals:                    2771   BIC:                                 -2.056e+04\n",
       "Df Model:                           1                                                  \n",
       "Covariance Type:            nonrobust                                                  \n",
       "==============================================================================\n",
       "                 coef    std err          t      P>|t|      [0.025      0.975]\n",
       "------------------------------------------------------------------------------\n",
       "Adj Close      0.0087      0.030      0.295      0.768      -0.049       0.067\n",
       "==============================================================================\n",
       "Omnibus:                     2326.876   Durbin-Watson:                   1.396\n",
       "Prob(Omnibus):                  0.000   Jarque-Bera (JB):            39887.137\n",
       "Skew:                           4.156   Prob(JB):                         0.00\n",
       "Kurtosis:                      19.620   Cond. No.                         1.00\n",
       "==============================================================================\n",
       "\n",
       "Warnings:\n",
       "[1] Standard Errors assume that the covariance matrix of the errors is correctly specified.\n",
       "\"\"\""
      ]
     },
     "execution_count": 193,
     "metadata": {},
     "output_type": "execute_result"
    }
   ],
   "source": [
    "model = sm.OLS(hourly_return - rf, SPY_hourly['Adj Close'][hourly_return.index] - rf).fit()\n",
    "model.summary()"
   ]
  },
  {
   "cell_type": "code",
   "execution_count": 194,
   "metadata": {},
   "outputs": [
    {
     "data": {
      "text/plain": [
       "5774.377916123818"
      ]
     },
     "execution_count": 194,
     "metadata": {},
     "output_type": "execute_result"
    }
   ],
   "source": [
    "tr = (net_return - 0.012 / 4) / model.params[0]\n",
    "tr"
   ]
  },
  {
   "cell_type": "code",
   "execution_count": 195,
   "metadata": {
    "scrolled": true
   },
   "outputs": [
    {
     "data": {
      "text/plain": [
       "SPY     0.249908\n",
       "VOO     0.250134\n",
       "SPLG     0.23997\n",
       "IVV     0.259988\n",
       "Name: 2021-11-26 13:00:00-05:00, dtype: object"
      ]
     },
     "execution_count": 195,
     "metadata": {},
     "output_type": "execute_result"
    }
   ],
   "source": [
    "stock_df.iloc[-1] / stock_df.iloc[-1].sum()"
   ]
  },
  {
   "cell_type": "code",
   "execution_count": 196,
   "metadata": {},
   "outputs": [
    {
     "data": {
      "text/plain": [
       "103680.93645363946"
      ]
     },
     "execution_count": 196,
     "metadata": {},
     "output_type": "execute_result"
    }
   ],
   "source": [
    "totalTransactionCost"
   ]
  },
  {
   "cell_type": "code",
   "execution_count": null,
   "metadata": {},
   "outputs": [],
   "source": []
  }
 ],
 "metadata": {
  "kernelspec": {
   "display_name": "Python 3",
   "language": "python",
   "name": "python3"
  },
  "language_info": {
   "codemirror_mode": {
    "name": "ipython",
    "version": 3
   },
   "file_extension": ".py",
   "mimetype": "text/x-python",
   "name": "python",
   "nbconvert_exporter": "python",
   "pygments_lexer": "ipython3",
   "version": "3.8.3"
  }
 },
 "nbformat": 4,
 "nbformat_minor": 4
}
